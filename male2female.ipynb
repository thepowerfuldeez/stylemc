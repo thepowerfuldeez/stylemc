{
 "cells": [
  {
   "cell_type": "markdown",
   "metadata": {},
   "source": [
    "## 1. Prepare imports "
   ]
  },
  {
   "cell_type": "code",
   "execution_count": null,
   "metadata": {
    "cellView": "form",
    "id": "NjI7au5YKysC"
   },
   "outputs": [],
   "source": [
    "import os\n",
    "import glob\n",
    "import sys\n",
    "\n",
    "import cv2\n",
    "import numpy as np\n",
    "import matplotlib.pyplot as plt\n",
    "from PIL import Image\n",
    "from tqdm.auto import tqdm\n",
    "\n",
    "# Setup (may take a few minutes)\n",
    "# Installs CLIP and other dependencies\n",
    "!gdown --id 1kwJndtv5tCd0LEzRTi4NHJ2sJbVZeDLG\n",
    "\n",
    "!pip uninstall -y torchtext torchaudio\n",
    "!pip install torch==1.7.1+cu101 torchvision==0.8.2+cu101 -f https://download.pytorch.org/whl/torch_stable.html\n",
    "!pip install ftfy regex tqdm click requests pyspng ninja imageio-ffmpeg==0.4.3 ffmpeg-python wandb\n",
    "!pip install git+https://github.com/openai/CLIP.git\n",
    "\n",
    "!git clone https://github.com/thepowerfuldeez/stylemc\n",
    "%cd stylemc\n",
    "\n",
    "# id loss model\n",
    "!gdown --id 1xG_YHGcbzd5LWwqQCDDQDcqsSw7OvODY -O id_loss/model_ir_se50.pth\n",
    "\n",
    "# model for masks, not used at the moment\n",
    "# !mkdir -p deeplab_model/\n",
    "# !gdown --id 1oRGgrI4KNdefbWVpw0rRkEP1gbJIRokM -O deeplab_model/R-101-GN-WS.pth.tar\n",
    "# !gdown --id 1w2XjDywFr2NjuUWaLQDRktH7VwIfuNlY -O deeplab_model/deeplab_model.pth\n",
    "\n",
    "# landmarks model\n",
    "!gdown --id 1Le5UdpMkKOTRr1sTp4lwkw8263sbgdSe"
   ]
  },
  {
   "cell_type": "markdown",
   "metadata": {},
   "source": [
    "## 2. Prepare data"
   ]
  },
  {
   "cell_type": "markdown",
   "metadata": {},
   "source": [
    "Generate 700 images, use --network=NETWORK path to FFHQ 512x512 official Nvidia's StyleGAN2 checkpoint. You can remove argument to use default.\n",
    "\n",
    "1. Generate w values from z\n",
    "2. Convert w values to S-space\n",
    "3. Generate images using w values"
   ]
  },
  {
   "cell_type": "code",
   "execution_count": null,
   "metadata": {
    "colab": {
     "base_uri": "https://localhost:8080/"
    },
    "id": "S3wu9qzNODu5",
    "outputId": "5ba90cff-98d8-4e99-e1af-90b5712a3979"
   },
   "outputs": [],
   "source": [
    "!python generate_w.py --network=\"\" --trunc=0.7 --seeds=\"100000-100699\"\n",
    "!python w_s_converter.py --network=\"\" --out_file=out/input.npz --projected-w=encoder4editing/projected_w.npz\n",
    "!python generate_fromS.py --network=\"\" --text_prompt=\"\" --change_power=0 --outdir=out --projected-w=encoder4editing/projected_w.npz"
   ]
  },
  {
   "cell_type": "code",
   "execution_count": null,
   "metadata": {
    "colab": {
     "base_uri": "https://localhost:8080/"
    },
    "id": "1FfAvSZnHxO0",
    "outputId": "352629f8-5662-4049-933f-e39f10e92780"
   },
   "outputs": [],
   "source": [
    "!python generate_w.py --network=\"\" --trunc=0.7 --seeds=\"10000-29999\" --out_file=encoder4editing/projected_w_train.npz\n",
    "!python w_s_converter.py --network=\"\" --out_file=out_train/input.npz --projected-w=encoder4editing/projected_w_train.npz\n",
    "!python generate_fromS.py --network=\"\" --text_prompt=\"\" --change_power=0 --outdir=out_train/ --projected-w=encoder4editing/projected_w_train.npz"
   ]
  },
  {
   "cell_type": "markdown",
   "metadata": {},
   "source": [
    "Process first 700 images in `out/` directory. Predict male/female label using CLIP and save only male S values"
   ]
  },
  {
   "cell_type": "code",
   "execution_count": null,
   "metadata": {
    "colab": {
     "base_uri": "https://localhost:8080/",
     "height": 49,
     "referenced_widgets": [
      "e6d56722bbb045d6b67f072eb9960a42",
      "7b76e4e915a04b9fa0b0163fb3117585",
      "ef08027a8cd441129cb3b535ff717046",
      "fdd8a7a2b9654e909106cc0dacbfa794",
      "60eff8f565d74ccb86185018b0830739",
      "cba76d8e93df452fa7af7802dde94f99",
      "49d0b5622bfd47ed81d86ccc6333cac2",
      "2390d35298e64cbca03416732a9cf523",
      "5c2b73a9212841b586292a62b6c49f26",
      "47c2e72603fe40cf83dd3fac005b247c",
      "b3f3f0339c834482a9c66161d1f11b40"
     ]
    },
    "id": "4JmyeW82MzSZ",
    "outputId": "e042bb6e-3766-4068-ead4-ca557c3305c2"
   },
   "outputs": [],
   "source": [
    "import torch\n",
    "import clip\n",
    "from PIL import Image\n",
    "\n",
    "device = \"cuda\" if torch.cuda.is_available() else \"cpu\"\n",
    "model, preprocess = clip.load(\"ViT-B/32\", device=device)\n",
    "\n",
    "\n",
    "text = clip.tokenize([\"a photo of a male person\", \"a photo of a female person\"]).to(device)\n",
    "all_probs = []\n",
    "for i in tqdm(range(0, 700)):\n",
    "  image = preprocess(Image.open(f\"out/proj{i:02d}.png\")).unsqueeze(0).to(device)\n",
    "\n",
    "  with torch.no_grad():\n",
    "      image_features = model.encode_image(image)\n",
    "\n",
    "      logits_per_image, logits_per_text = model(image, text)\n",
    "      probs = logits_per_image.softmax(dim=-1).cpu().numpy()\n",
    "      all_probs.append(probs)\n",
    "all_probs = np.concatenate(all_probs)\n",
    "\n",
    "\n",
    "import numpy as np\n",
    "styles = np.load(\"out/input.npz\")['s']\n",
    "male_idx = (all_probs[:, 0] > 0.85).nonzero()[0]\n",
    "female_idx = (all_probs[:, 1] > 0.85).nonzero()[0]\n",
    "\n",
    "np.savez(\"out/female_s.npz\", s=styles[female_idx], idx=female_idx)\n",
    "np.savez(\"out/male_s.npz\", s=styles[male_idx], idx=male_idx)"
   ]
  },
  {
   "cell_type": "markdown",
   "metadata": {},
   "source": [
    "Generate training dataset. Same filtering male/female as before (but with lower threshold) and then removing some oversampled classes, like european man, white man, middle-aged man. \n",
    "\n",
    "This is in order to get more balanced dataset."
   ]
  },
  {
   "cell_type": "code",
   "execution_count": null,
   "metadata": {
    "colab": {
     "base_uri": "https://localhost:8080/",
     "height": 66,
     "referenced_widgets": [
      "67eb02b6d75a4e3c815f950c778669ae",
      "6408a4c48f3b4f2c80c07d2e68586621",
      "2126b81da3b64f66a78c40ae759303d2",
      "035abf1388204bfeafd6636b89aad582",
      "f0957523db1d4eae8afd0742ecbd2bc6",
      "a96eb0f8c1644e59b3ab0835bee001b3",
      "c7aab5a5f6b146cd8e639ccc6bafdb28",
      "de04884f01e14b039e9af172c94146b1",
      "945bbd586365494684a35c057243a0b3",
      "e95ec5fa9f744d03970e25206e13b248",
      "fcd33c5936bc451b80024e3470881d99"
     ]
    },
    "id": "1X8Ojn0oR9jY",
    "outputId": "1bc47d4c-edeb-4621-aae1-86072a2f859a"
   },
   "outputs": [],
   "source": [
    "pairs = [\n",
    "         [\"a photo of a asian man\", \"a photo of a european man\"],\n",
    "         [\"a photo of a white man\", \"a photo of a black man\"],\n",
    "         [\"a photo of a young boy\", \"a photo of a middle-aged man\", \"a photo of a old man\"],\n",
    "         [\"a photo of a man with long hair\", \"a photo of a man with short hair\"],\n",
    "         [\"a photo of a man with glasses\", \"a photo of a man without glasses\"],\n",
    "]\n",
    "\n",
    "\n",
    "import torch\n",
    "import clip\n",
    "from PIL import Image\n",
    "\n",
    "device = \"cuda\" if torch.cuda.is_available() else \"cpu\"\n",
    "model, preprocess = clip.load(\"ViT-B/32\", device=device)\n",
    "\n",
    "\n",
    "text = clip.tokenize([\"a photo of a male person\", \"a photo of a female person\"]).to(device)\n",
    "all_probs = []\n",
    "all_pair_probs = [[] for _ in range(len(pairs))]\n",
    "text_pairs = [clip.tokenize(p).to(device) for p in pairs]\n",
    "for i in tqdm(range(0, 20000)):\n",
    "  image = preprocess(Image.open(f\"out_train/proj{i:02d}.png\")).unsqueeze(0).to(device)\n",
    "\n",
    "  with torch.no_grad():\n",
    "      image_features = model.encode_image(image)\n",
    "\n",
    "      logits_per_image, logits_per_text = model(image, text)\n",
    "      probs = logits_per_image.softmax(dim=-1).cpu().numpy()\n",
    "      all_probs.append(probs)\n",
    "\n",
    "      for i, t_p in enumerate(text_pairs):\n",
    "        logits_per_image, logits_per_text = model(image, t_p)\n",
    "        probs = logits_per_image.softmax(dim=-1).cpu().numpy()\n",
    "        all_pair_probs[i].append(probs)\n",
    "\n",
    "all_pair_probs = [np.concatenate(x) for x in all_pair_probs]\n",
    "all_pair_probs = np.concatenate(all_pair_probs, axis=-1)  # [15000, K]\n",
    "all_probs = np.concatenate(all_probs)\n",
    "\n",
    "\n",
    "import numpy as np\n",
    "styles = np.load(\"out_train/input.npz\")['s']\n",
    "male_idx = (all_probs[:, 0] > 0.75).nonzero()[0]\n",
    "female_idx = (all_probs[:, 1] > 0.75).nonzero()[0]\n",
    "\n",
    "np.savez(\"out_train/female_s.npz\", s=styles[female_idx], idx=female_idx)\n",
    "np.savez(\"out_train/male_s.npz\", s=styles[male_idx], idx=male_idx)"
   ]
  },
  {
   "cell_type": "code",
   "execution_count": null,
   "metadata": {
    "colab": {
     "base_uri": "https://localhost:8080/"
    },
    "id": "yM9DuJXLtlSZ",
    "outputId": "02b2496c-5c78-4708-ebf3-44036a42138d"
   },
   "outputs": [],
   "source": [
    "k = 0\n",
    "i = 0\n",
    "while k < all_pair_probs.shape[1]:\n",
    "  print(pairs[i])\n",
    "  n = len(pairs[i])\n",
    "  print(k, (all_pair_probs[male_idx, k:k+n] > 1.5 / n).sum(0))\n",
    "  k += n\n",
    "  i += 1\n",
    "\n",
    "# indices of overpopulated classes\n",
    "exclude_idx1 = (all_pair_probs[male_idx, 1] > 0.7).nonzero()[0][0:4000:10]\n",
    "exclude_idx2 = (all_pair_probs[male_idx, 2] > 0.7).nonzero()[0][0:3500:10]\n",
    "exclude_idx3 = (all_pair_probs[male_idx, 5] > 0.5).nonzero()[0][0:4000:10]\n",
    "exclude_idx4 = (all_pair_probs[male_idx, 8] > 0.7).nonzero()[0][0:4000:10]\n",
    "exclude_idx5 = (all_pair_probs[male_idx, 10] > 0.7).nonzero()[0][0:4000:10]\n",
    "\n",
    "exclude_idx = np.union1d(np.union1d(np.union1d(np.union1d(exclude_idx1, exclude_idx2), exclude_idx3), exclude_idx4), exclude_idx5)\n",
    "\n",
    "male_idx_balanced = male_idx[~np.isin(np.arange(len(male_idx)), exclude_idx)]\n",
    "print(\"male_idx\", len(male_idx), \"male_idx balanced\", len(male_idx_balanced))\n",
    "np.savez(\"out_train/male_s_balanced.npz\", s=styles[male_idx_balanced], idx=male_idx_balanced)"
   ]
  },
  {
   "cell_type": "markdown",
   "metadata": {},
   "source": [
    "## 3. Training"
   ]
  },
  {
   "cell_type": "markdown",
   "metadata": {},
   "source": [
    "In order to train latent mapper and global direction you must specify network (or remove to use default). Other arguments already filled in. You may try to increase batch size and it will reduce training time.\n",
    "\n",
    "For training one network you should wait around 4 hours."
   ]
  },
  {
   "cell_type": "code",
   "execution_count": null,
   "metadata": {
    "id": "NveAkGodPFyD"
   },
   "outputs": [],
   "source": [
    "# first, log-in to wandb to log losses and images\n",
    "import wandb\n",
    "wandb.login()"
   ]
  },
  {
   "cell_type": "code",
   "execution_count": null,
   "metadata": {
    "colab": {
     "base_uri": "https://localhost:8080/"
    },
    "id": "I4J5Odrz1Ley",
    "outputId": "4724d456-72b0-4e76-aa9f-182e9271e762"
   },
   "outputs": [],
   "source": [
    "!python train_latent_mapper.py --network=\"\" --s_input=\"out_train/male_s_balanced2.npz\" --text_prompt=\"a photo of a face of a feminine woman with no makeup\" --outdir=runs/male2female_mapper_id0.3_clip1.5_l2_0.8_landmarks0.1_batch2_epoch10_power1.8_big/ --clip_loss_coef=1.5 --landmarks_loss_coef=0.1 --batch_size=2 --n_epochs=10 --negative_text_prompt=\"a photo of a face of a man\" \n",
    "!python generate_fromS.py --network=\"\" --s_input=\"out_train/male_s.npz\" --text_prompt=\"a photo of a face of a feminine woman with no makeup\" --outdir=runs/male2female_mapper_id0.3_clip1.5_l2_0.8_landmarks0.1_batch2_epoch10_power1.8_big/ --change_power=1.8 --use_mapper=1"
   ]
  },
  {
   "cell_type": "code",
   "execution_count": null,
   "metadata": {
    "colab": {
     "base_uri": "https://localhost:8080/"
    },
    "id": "2zXCpI6S2J4A",
    "outputId": "cd8a9641-f56c-4a7f-81bb-a056818f74e6"
   },
   "outputs": [],
   "source": [
    "!python find_direction.py --network=\"\" --s_input=\"out_train/male_s_balanced2.npz\" --resolution=512 --text_prompt=\"a photo of a face of a feminine woman with no makeup\" --outdir=runs/male2female_512_id0.3_clip1.0_l2_0.8_landmarks0.1_lr5.0_batch2_epoch10_power1.8_big/ --batch_size=2 --n_epochs=10 --negative_text_prompt=\"a photo of a face of a man\" --clip_loss_coef=1.0 --identity_loss_coef=0.3 --landmarks_loss_coef=0.1 --l2_reg_coef=0.8 --learning_rate=5.0\n",
    "!python generate_fromS.py --network=\"\" --s_input=\"out_train/male_s.npz\" --text_prompt=\"a photo of a face of a feminine woman with no makeup\" --outdir=runs/male2female_512_id0.3_clip1.0_l2_0.8_landmarks0.1_lr5.0_batch2_epoch10_power1.8_big/ --change_power=1.8"
   ]
  },
  {
   "cell_type": "code",
   "execution_count": null,
   "metadata": {
    "id": "1A6mKwAjeHNt"
   },
   "outputs": [],
   "source": [
    "# save results with test images to archive\n",
    "!tar czf runs.tgz runs/"
   ]
  },
  {
   "cell_type": "code",
   "execution_count": null,
   "metadata": {
    "id": "vamg7EHHnxcd"
   },
   "outputs": [],
   "source": []
  },
  {
   "cell_type": "code",
   "execution_count": null,
   "metadata": {
    "id": "iMSeTOnEnybI"
   },
   "outputs": [],
   "source": []
  }
 ],
 "metadata": {
  "accelerator": "GPU",
  "colab": {
   "collapsed_sections": [],
   "name": "male2female.ipynb",
   "provenance": []
  },
  "kernelspec": {
   "display_name": "Python 3 (ipykernel)",
   "language": "python",
   "name": "python3"
  },
  "language_info": {
   "codemirror_mode": {
    "name": "ipython",
    "version": 3
   },
   "file_extension": ".py",
   "mimetype": "text/x-python",
   "name": "python",
   "nbconvert_exporter": "python",
   "pygments_lexer": "ipython3",
   "version": "3.9.12"
  },
  "widgets": {
   "application/vnd.jupyter.widget-state+json": {
    "035abf1388204bfeafd6636b89aad582": {
     "model_module": "@jupyter-widgets/controls",
     "model_module_version": "1.5.0",
     "model_name": "HTMLModel",
     "state": {
      "_dom_classes": [],
      "_model_module": "@jupyter-widgets/controls",
      "_model_module_version": "1.5.0",
      "_model_name": "HTMLModel",
      "_view_count": null,
      "_view_module": "@jupyter-widgets/controls",
      "_view_module_version": "1.5.0",
      "_view_name": "HTMLView",
      "description": "",
      "description_tooltip": null,
      "layout": "IPY_MODEL_e95ec5fa9f744d03970e25206e13b248",
      "placeholder": "​",
      "style": "IPY_MODEL_fcd33c5936bc451b80024e3470881d99",
      "value": " 20000/20000 [1:09:55&lt;00:00,  4.91it/s]"
     }
    },
    "2126b81da3b64f66a78c40ae759303d2": {
     "model_module": "@jupyter-widgets/controls",
     "model_module_version": "1.5.0",
     "model_name": "FloatProgressModel",
     "state": {
      "_dom_classes": [],
      "_model_module": "@jupyter-widgets/controls",
      "_model_module_version": "1.5.0",
      "_model_name": "FloatProgressModel",
      "_view_count": null,
      "_view_module": "@jupyter-widgets/controls",
      "_view_module_version": "1.5.0",
      "_view_name": "ProgressView",
      "bar_style": "success",
      "description": "",
      "description_tooltip": null,
      "layout": "IPY_MODEL_de04884f01e14b039e9af172c94146b1",
      "max": 20000,
      "min": 0,
      "orientation": "horizontal",
      "style": "IPY_MODEL_945bbd586365494684a35c057243a0b3",
      "value": 20000
     }
    },
    "2390d35298e64cbca03416732a9cf523": {
     "model_module": "@jupyter-widgets/base",
     "model_module_version": "1.2.0",
     "model_name": "LayoutModel",
     "state": {
      "_model_module": "@jupyter-widgets/base",
      "_model_module_version": "1.2.0",
      "_model_name": "LayoutModel",
      "_view_count": null,
      "_view_module": "@jupyter-widgets/base",
      "_view_module_version": "1.2.0",
      "_view_name": "LayoutView",
      "align_content": null,
      "align_items": null,
      "align_self": null,
      "border": null,
      "bottom": null,
      "display": null,
      "flex": null,
      "flex_flow": null,
      "grid_area": null,
      "grid_auto_columns": null,
      "grid_auto_flow": null,
      "grid_auto_rows": null,
      "grid_column": null,
      "grid_gap": null,
      "grid_row": null,
      "grid_template_areas": null,
      "grid_template_columns": null,
      "grid_template_rows": null,
      "height": null,
      "justify_content": null,
      "justify_items": null,
      "left": null,
      "margin": null,
      "max_height": null,
      "max_width": null,
      "min_height": null,
      "min_width": null,
      "object_fit": null,
      "object_position": null,
      "order": null,
      "overflow": null,
      "overflow_x": null,
      "overflow_y": null,
      "padding": null,
      "right": null,
      "top": null,
      "visibility": null,
      "width": null
     }
    },
    "47c2e72603fe40cf83dd3fac005b247c": {
     "model_module": "@jupyter-widgets/base",
     "model_module_version": "1.2.0",
     "model_name": "LayoutModel",
     "state": {
      "_model_module": "@jupyter-widgets/base",
      "_model_module_version": "1.2.0",
      "_model_name": "LayoutModel",
      "_view_count": null,
      "_view_module": "@jupyter-widgets/base",
      "_view_module_version": "1.2.0",
      "_view_name": "LayoutView",
      "align_content": null,
      "align_items": null,
      "align_self": null,
      "border": null,
      "bottom": null,
      "display": null,
      "flex": null,
      "flex_flow": null,
      "grid_area": null,
      "grid_auto_columns": null,
      "grid_auto_flow": null,
      "grid_auto_rows": null,
      "grid_column": null,
      "grid_gap": null,
      "grid_row": null,
      "grid_template_areas": null,
      "grid_template_columns": null,
      "grid_template_rows": null,
      "height": null,
      "justify_content": null,
      "justify_items": null,
      "left": null,
      "margin": null,
      "max_height": null,
      "max_width": null,
      "min_height": null,
      "min_width": null,
      "object_fit": null,
      "object_position": null,
      "order": null,
      "overflow": null,
      "overflow_x": null,
      "overflow_y": null,
      "padding": null,
      "right": null,
      "top": null,
      "visibility": null,
      "width": null
     }
    },
    "49d0b5622bfd47ed81d86ccc6333cac2": {
     "model_module": "@jupyter-widgets/controls",
     "model_module_version": "1.5.0",
     "model_name": "DescriptionStyleModel",
     "state": {
      "_model_module": "@jupyter-widgets/controls",
      "_model_module_version": "1.5.0",
      "_model_name": "DescriptionStyleModel",
      "_view_count": null,
      "_view_module": "@jupyter-widgets/base",
      "_view_module_version": "1.2.0",
      "_view_name": "StyleView",
      "description_width": ""
     }
    },
    "5c2b73a9212841b586292a62b6c49f26": {
     "model_module": "@jupyter-widgets/controls",
     "model_module_version": "1.5.0",
     "model_name": "ProgressStyleModel",
     "state": {
      "_model_module": "@jupyter-widgets/controls",
      "_model_module_version": "1.5.0",
      "_model_name": "ProgressStyleModel",
      "_view_count": null,
      "_view_module": "@jupyter-widgets/base",
      "_view_module_version": "1.2.0",
      "_view_name": "StyleView",
      "bar_color": null,
      "description_width": ""
     }
    },
    "60eff8f565d74ccb86185018b0830739": {
     "model_module": "@jupyter-widgets/base",
     "model_module_version": "1.2.0",
     "model_name": "LayoutModel",
     "state": {
      "_model_module": "@jupyter-widgets/base",
      "_model_module_version": "1.2.0",
      "_model_name": "LayoutModel",
      "_view_count": null,
      "_view_module": "@jupyter-widgets/base",
      "_view_module_version": "1.2.0",
      "_view_name": "LayoutView",
      "align_content": null,
      "align_items": null,
      "align_self": null,
      "border": null,
      "bottom": null,
      "display": null,
      "flex": null,
      "flex_flow": null,
      "grid_area": null,
      "grid_auto_columns": null,
      "grid_auto_flow": null,
      "grid_auto_rows": null,
      "grid_column": null,
      "grid_gap": null,
      "grid_row": null,
      "grid_template_areas": null,
      "grid_template_columns": null,
      "grid_template_rows": null,
      "height": null,
      "justify_content": null,
      "justify_items": null,
      "left": null,
      "margin": null,
      "max_height": null,
      "max_width": null,
      "min_height": null,
      "min_width": null,
      "object_fit": null,
      "object_position": null,
      "order": null,
      "overflow": null,
      "overflow_x": null,
      "overflow_y": null,
      "padding": null,
      "right": null,
      "top": null,
      "visibility": null,
      "width": null
     }
    },
    "6408a4c48f3b4f2c80c07d2e68586621": {
     "model_module": "@jupyter-widgets/controls",
     "model_module_version": "1.5.0",
     "model_name": "HTMLModel",
     "state": {
      "_dom_classes": [],
      "_model_module": "@jupyter-widgets/controls",
      "_model_module_version": "1.5.0",
      "_model_name": "HTMLModel",
      "_view_count": null,
      "_view_module": "@jupyter-widgets/controls",
      "_view_module_version": "1.5.0",
      "_view_name": "HTMLView",
      "description": "",
      "description_tooltip": null,
      "layout": "IPY_MODEL_a96eb0f8c1644e59b3ab0835bee001b3",
      "placeholder": "​",
      "style": "IPY_MODEL_c7aab5a5f6b146cd8e639ccc6bafdb28",
      "value": "100%"
     }
    },
    "67eb02b6d75a4e3c815f950c778669ae": {
     "model_module": "@jupyter-widgets/controls",
     "model_module_version": "1.5.0",
     "model_name": "HBoxModel",
     "state": {
      "_dom_classes": [],
      "_model_module": "@jupyter-widgets/controls",
      "_model_module_version": "1.5.0",
      "_model_name": "HBoxModel",
      "_view_count": null,
      "_view_module": "@jupyter-widgets/controls",
      "_view_module_version": "1.5.0",
      "_view_name": "HBoxView",
      "box_style": "",
      "children": [
       "IPY_MODEL_6408a4c48f3b4f2c80c07d2e68586621",
       "IPY_MODEL_2126b81da3b64f66a78c40ae759303d2",
       "IPY_MODEL_035abf1388204bfeafd6636b89aad582"
      ],
      "layout": "IPY_MODEL_f0957523db1d4eae8afd0742ecbd2bc6"
     }
    },
    "7b76e4e915a04b9fa0b0163fb3117585": {
     "model_module": "@jupyter-widgets/controls",
     "model_module_version": "1.5.0",
     "model_name": "HTMLModel",
     "state": {
      "_dom_classes": [],
      "_model_module": "@jupyter-widgets/controls",
      "_model_module_version": "1.5.0",
      "_model_name": "HTMLModel",
      "_view_count": null,
      "_view_module": "@jupyter-widgets/controls",
      "_view_module_version": "1.5.0",
      "_view_name": "HTMLView",
      "description": "",
      "description_tooltip": null,
      "layout": "IPY_MODEL_cba76d8e93df452fa7af7802dde94f99",
      "placeholder": "​",
      "style": "IPY_MODEL_49d0b5622bfd47ed81d86ccc6333cac2",
      "value": "100%"
     }
    },
    "945bbd586365494684a35c057243a0b3": {
     "model_module": "@jupyter-widgets/controls",
     "model_module_version": "1.5.0",
     "model_name": "ProgressStyleModel",
     "state": {
      "_model_module": "@jupyter-widgets/controls",
      "_model_module_version": "1.5.0",
      "_model_name": "ProgressStyleModel",
      "_view_count": null,
      "_view_module": "@jupyter-widgets/base",
      "_view_module_version": "1.2.0",
      "_view_name": "StyleView",
      "bar_color": null,
      "description_width": ""
     }
    },
    "a96eb0f8c1644e59b3ab0835bee001b3": {
     "model_module": "@jupyter-widgets/base",
     "model_module_version": "1.2.0",
     "model_name": "LayoutModel",
     "state": {
      "_model_module": "@jupyter-widgets/base",
      "_model_module_version": "1.2.0",
      "_model_name": "LayoutModel",
      "_view_count": null,
      "_view_module": "@jupyter-widgets/base",
      "_view_module_version": "1.2.0",
      "_view_name": "LayoutView",
      "align_content": null,
      "align_items": null,
      "align_self": null,
      "border": null,
      "bottom": null,
      "display": null,
      "flex": null,
      "flex_flow": null,
      "grid_area": null,
      "grid_auto_columns": null,
      "grid_auto_flow": null,
      "grid_auto_rows": null,
      "grid_column": null,
      "grid_gap": null,
      "grid_row": null,
      "grid_template_areas": null,
      "grid_template_columns": null,
      "grid_template_rows": null,
      "height": null,
      "justify_content": null,
      "justify_items": null,
      "left": null,
      "margin": null,
      "max_height": null,
      "max_width": null,
      "min_height": null,
      "min_width": null,
      "object_fit": null,
      "object_position": null,
      "order": null,
      "overflow": null,
      "overflow_x": null,
      "overflow_y": null,
      "padding": null,
      "right": null,
      "top": null,
      "visibility": null,
      "width": null
     }
    },
    "b3f3f0339c834482a9c66161d1f11b40": {
     "model_module": "@jupyter-widgets/controls",
     "model_module_version": "1.5.0",
     "model_name": "DescriptionStyleModel",
     "state": {
      "_model_module": "@jupyter-widgets/controls",
      "_model_module_version": "1.5.0",
      "_model_name": "DescriptionStyleModel",
      "_view_count": null,
      "_view_module": "@jupyter-widgets/base",
      "_view_module_version": "1.2.0",
      "_view_name": "StyleView",
      "description_width": ""
     }
    },
    "c7aab5a5f6b146cd8e639ccc6bafdb28": {
     "model_module": "@jupyter-widgets/controls",
     "model_module_version": "1.5.0",
     "model_name": "DescriptionStyleModel",
     "state": {
      "_model_module": "@jupyter-widgets/controls",
      "_model_module_version": "1.5.0",
      "_model_name": "DescriptionStyleModel",
      "_view_count": null,
      "_view_module": "@jupyter-widgets/base",
      "_view_module_version": "1.2.0",
      "_view_name": "StyleView",
      "description_width": ""
     }
    },
    "cba76d8e93df452fa7af7802dde94f99": {
     "model_module": "@jupyter-widgets/base",
     "model_module_version": "1.2.0",
     "model_name": "LayoutModel",
     "state": {
      "_model_module": "@jupyter-widgets/base",
      "_model_module_version": "1.2.0",
      "_model_name": "LayoutModel",
      "_view_count": null,
      "_view_module": "@jupyter-widgets/base",
      "_view_module_version": "1.2.0",
      "_view_name": "LayoutView",
      "align_content": null,
      "align_items": null,
      "align_self": null,
      "border": null,
      "bottom": null,
      "display": null,
      "flex": null,
      "flex_flow": null,
      "grid_area": null,
      "grid_auto_columns": null,
      "grid_auto_flow": null,
      "grid_auto_rows": null,
      "grid_column": null,
      "grid_gap": null,
      "grid_row": null,
      "grid_template_areas": null,
      "grid_template_columns": null,
      "grid_template_rows": null,
      "height": null,
      "justify_content": null,
      "justify_items": null,
      "left": null,
      "margin": null,
      "max_height": null,
      "max_width": null,
      "min_height": null,
      "min_width": null,
      "object_fit": null,
      "object_position": null,
      "order": null,
      "overflow": null,
      "overflow_x": null,
      "overflow_y": null,
      "padding": null,
      "right": null,
      "top": null,
      "visibility": null,
      "width": null
     }
    },
    "de04884f01e14b039e9af172c94146b1": {
     "model_module": "@jupyter-widgets/base",
     "model_module_version": "1.2.0",
     "model_name": "LayoutModel",
     "state": {
      "_model_module": "@jupyter-widgets/base",
      "_model_module_version": "1.2.0",
      "_model_name": "LayoutModel",
      "_view_count": null,
      "_view_module": "@jupyter-widgets/base",
      "_view_module_version": "1.2.0",
      "_view_name": "LayoutView",
      "align_content": null,
      "align_items": null,
      "align_self": null,
      "border": null,
      "bottom": null,
      "display": null,
      "flex": null,
      "flex_flow": null,
      "grid_area": null,
      "grid_auto_columns": null,
      "grid_auto_flow": null,
      "grid_auto_rows": null,
      "grid_column": null,
      "grid_gap": null,
      "grid_row": null,
      "grid_template_areas": null,
      "grid_template_columns": null,
      "grid_template_rows": null,
      "height": null,
      "justify_content": null,
      "justify_items": null,
      "left": null,
      "margin": null,
      "max_height": null,
      "max_width": null,
      "min_height": null,
      "min_width": null,
      "object_fit": null,
      "object_position": null,
      "order": null,
      "overflow": null,
      "overflow_x": null,
      "overflow_y": null,
      "padding": null,
      "right": null,
      "top": null,
      "visibility": null,
      "width": null
     }
    },
    "e6d56722bbb045d6b67f072eb9960a42": {
     "model_module": "@jupyter-widgets/controls",
     "model_module_version": "1.5.0",
     "model_name": "HBoxModel",
     "state": {
      "_dom_classes": [],
      "_model_module": "@jupyter-widgets/controls",
      "_model_module_version": "1.5.0",
      "_model_name": "HBoxModel",
      "_view_count": null,
      "_view_module": "@jupyter-widgets/controls",
      "_view_module_version": "1.5.0",
      "_view_name": "HBoxView",
      "box_style": "",
      "children": [
       "IPY_MODEL_7b76e4e915a04b9fa0b0163fb3117585",
       "IPY_MODEL_ef08027a8cd441129cb3b535ff717046",
       "IPY_MODEL_fdd8a7a2b9654e909106cc0dacbfa794"
      ],
      "layout": "IPY_MODEL_60eff8f565d74ccb86185018b0830739"
     }
    },
    "e95ec5fa9f744d03970e25206e13b248": {
     "model_module": "@jupyter-widgets/base",
     "model_module_version": "1.2.0",
     "model_name": "LayoutModel",
     "state": {
      "_model_module": "@jupyter-widgets/base",
      "_model_module_version": "1.2.0",
      "_model_name": "LayoutModel",
      "_view_count": null,
      "_view_module": "@jupyter-widgets/base",
      "_view_module_version": "1.2.0",
      "_view_name": "LayoutView",
      "align_content": null,
      "align_items": null,
      "align_self": null,
      "border": null,
      "bottom": null,
      "display": null,
      "flex": null,
      "flex_flow": null,
      "grid_area": null,
      "grid_auto_columns": null,
      "grid_auto_flow": null,
      "grid_auto_rows": null,
      "grid_column": null,
      "grid_gap": null,
      "grid_row": null,
      "grid_template_areas": null,
      "grid_template_columns": null,
      "grid_template_rows": null,
      "height": null,
      "justify_content": null,
      "justify_items": null,
      "left": null,
      "margin": null,
      "max_height": null,
      "max_width": null,
      "min_height": null,
      "min_width": null,
      "object_fit": null,
      "object_position": null,
      "order": null,
      "overflow": null,
      "overflow_x": null,
      "overflow_y": null,
      "padding": null,
      "right": null,
      "top": null,
      "visibility": null,
      "width": null
     }
    },
    "ef08027a8cd441129cb3b535ff717046": {
     "model_module": "@jupyter-widgets/controls",
     "model_module_version": "1.5.0",
     "model_name": "FloatProgressModel",
     "state": {
      "_dom_classes": [],
      "_model_module": "@jupyter-widgets/controls",
      "_model_module_version": "1.5.0",
      "_model_name": "FloatProgressModel",
      "_view_count": null,
      "_view_module": "@jupyter-widgets/controls",
      "_view_module_version": "1.5.0",
      "_view_name": "ProgressView",
      "bar_style": "success",
      "description": "",
      "description_tooltip": null,
      "layout": "IPY_MODEL_2390d35298e64cbca03416732a9cf523",
      "max": 700,
      "min": 0,
      "orientation": "horizontal",
      "style": "IPY_MODEL_5c2b73a9212841b586292a62b6c49f26",
      "value": 700
     }
    },
    "f0957523db1d4eae8afd0742ecbd2bc6": {
     "model_module": "@jupyter-widgets/base",
     "model_module_version": "1.2.0",
     "model_name": "LayoutModel",
     "state": {
      "_model_module": "@jupyter-widgets/base",
      "_model_module_version": "1.2.0",
      "_model_name": "LayoutModel",
      "_view_count": null,
      "_view_module": "@jupyter-widgets/base",
      "_view_module_version": "1.2.0",
      "_view_name": "LayoutView",
      "align_content": null,
      "align_items": null,
      "align_self": null,
      "border": null,
      "bottom": null,
      "display": null,
      "flex": null,
      "flex_flow": null,
      "grid_area": null,
      "grid_auto_columns": null,
      "grid_auto_flow": null,
      "grid_auto_rows": null,
      "grid_column": null,
      "grid_gap": null,
      "grid_row": null,
      "grid_template_areas": null,
      "grid_template_columns": null,
      "grid_template_rows": null,
      "height": null,
      "justify_content": null,
      "justify_items": null,
      "left": null,
      "margin": null,
      "max_height": null,
      "max_width": null,
      "min_height": null,
      "min_width": null,
      "object_fit": null,
      "object_position": null,
      "order": null,
      "overflow": null,
      "overflow_x": null,
      "overflow_y": null,
      "padding": null,
      "right": null,
      "top": null,
      "visibility": null,
      "width": null
     }
    },
    "fcd33c5936bc451b80024e3470881d99": {
     "model_module": "@jupyter-widgets/controls",
     "model_module_version": "1.5.0",
     "model_name": "DescriptionStyleModel",
     "state": {
      "_model_module": "@jupyter-widgets/controls",
      "_model_module_version": "1.5.0",
      "_model_name": "DescriptionStyleModel",
      "_view_count": null,
      "_view_module": "@jupyter-widgets/base",
      "_view_module_version": "1.2.0",
      "_view_name": "StyleView",
      "description_width": ""
     }
    },
    "fdd8a7a2b9654e909106cc0dacbfa794": {
     "model_module": "@jupyter-widgets/controls",
     "model_module_version": "1.5.0",
     "model_name": "HTMLModel",
     "state": {
      "_dom_classes": [],
      "_model_module": "@jupyter-widgets/controls",
      "_model_module_version": "1.5.0",
      "_model_name": "HTMLModel",
      "_view_count": null,
      "_view_module": "@jupyter-widgets/controls",
      "_view_module_version": "1.5.0",
      "_view_name": "HTMLView",
      "description": "",
      "description_tooltip": null,
      "layout": "IPY_MODEL_47c2e72603fe40cf83dd3fac005b247c",
      "placeholder": "​",
      "style": "IPY_MODEL_b3f3f0339c834482a9c66161d1f11b40",
      "value": " 700/700 [00:34&lt;00:00, 20.61it/s]"
     }
    }
   }
  }
 },
 "nbformat": 4,
 "nbformat_minor": 1
}
